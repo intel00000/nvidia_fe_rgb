{
 "cells": [
  {
   "cell_type": "code",
   "execution_count": 1,
   "metadata": {},
   "outputs": [],
   "source": [
    "import sys"
   ]
  },
  {
   "cell_type": "code",
   "execution_count": 3,
   "metadata": {},
   "outputs": [
    {
     "name": "stdout",
     "output_type": "stream",
     "text": [
      "Requirement already satisfied: pythonnet in c:\\users\\r9000p\\nvidia_fe_rgb\\.venv\\lib\\site-packages (3.0.5)\n",
      "Requirement already satisfied: clr_loader<0.3.0,>=0.2.7 in c:\\users\\r9000p\\nvidia_fe_rgb\\.venv\\lib\\site-packages (from pythonnet) (0.2.7.post0)\n",
      "Requirement already satisfied: cffi>=1.17 in c:\\users\\r9000p\\nvidia_fe_rgb\\.venv\\lib\\site-packages (from clr_loader<0.3.0,>=0.2.7->pythonnet) (1.17.1)\n",
      "Requirement already satisfied: pycparser in c:\\users\\r9000p\\nvidia_fe_rgb\\.venv\\lib\\site-packages (from cffi>=1.17->clr_loader<0.3.0,>=0.2.7->pythonnet) (2.22)\n"
     ]
    }
   ],
   "source": [
    "!pip install pythonnet"
   ]
  },
  {
   "cell_type": "code",
   "execution_count": 4,
   "metadata": {},
   "outputs": [
    {
     "ename": "ModuleNotFoundError",
     "evalue": "No module named 'clr'",
     "output_type": "error",
     "traceback": [
      "\u001b[1;31m---------------------------------------------------------------------------\u001b[0m",
      "\u001b[1;31mModuleNotFoundError\u001b[0m                       Traceback (most recent call last)",
      "Cell \u001b[1;32mIn[4], line 1\u001b[0m\n\u001b[1;32m----> 1\u001b[0m \u001b[38;5;28;01mimport\u001b[39;00m \u001b[38;5;21;01mclr\u001b[39;00m\n",
      "\u001b[1;31mModuleNotFoundError\u001b[0m: No module named 'clr'"
     ]
    }
   ],
   "source": [
    "import clr"
   ]
  },
  {
   "cell_type": "code",
   "execution_count": null,
   "metadata": {},
   "outputs": [],
   "source": []
  }
 ],
 "metadata": {
  "kernelspec": {
   "display_name": "Python 3 (ipykernel)",
   "language": "python",
   "name": "python3"
  },
  "language_info": {
   "codemirror_mode": {
    "name": "ipython",
    "version": 3
   },
   "file_extension": ".py",
   "mimetype": "text/x-python",
   "name": "python",
   "nbconvert_exporter": "python",
   "pygments_lexer": "ipython3",
   "version": "3.11.5"
  }
 },
 "nbformat": 4,
 "nbformat_minor": 4
}
