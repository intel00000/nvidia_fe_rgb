{
 "cells": [
  {
   "cell_type": "code",
   "execution_count": 1,
   "metadata": {},
   "outputs": [
    {
     "data": {
      "text/plain": [
       "<NVAPI_STATUS.NVAPI_OK: 0>"
      ]
     },
     "execution_count": 1,
     "metadata": {},
     "output_type": "execute_result"
    }
   ],
   "source": [
    "import sys\n",
    "import clr\n",
    "\n",
    "clr.AddReference(\"ManagedNvApi\")\n",
    "\n",
    "# 2. Import the actual C# namespace/classes you want\n",
    "from ManagedNvApi import NvApi\n",
    "\n",
    "# 3. Instantiate the NvApi class\n",
    "nv = NvApi()\n",
    "nv.Initialize()"
   ]
  },
  {
   "cell_type": "code",
   "execution_count": 2,
   "metadata": {},
   "outputs": [
    {
     "name": "stdout",
     "output_type": "stream",
     "text": [
      "Call success: True\n",
      "Boost Graphics Clock (kHz): 1560000\n"
     ]
    }
   ],
   "source": [
    "from System import UInt32\n",
    "\n",
    "gpu_index = UInt32(0)\n",
    "\n",
    "# You can pass any value for ulFrequency, doesn't matter\n",
    "ulFrequency = UInt32(0)\n",
    "\n",
    "# This returns a tuple: (bool result, uint updatedRefValue)\n",
    "success, boost_freq = nv.getGpuBoostGraphicsClock(gpu_index, ulFrequency)\n",
    "\n",
    "print(\"Call success:\", success)\n",
    "print(\"Boost Graphics Clock (kHz):\", boost_freq)"
   ]
  },
  {
   "cell_type": "code",
   "execution_count": 3,
   "metadata": {},
   "outputs": [
    {
     "name": "stdout",
     "output_type": "stream",
     "text": [
      "Success: False\n",
      "Red: 0\n",
      "Green: 0\n",
      "Blue: 0\n",
      "Brightness: 0\n"
     ]
    }
   ],
   "source": [
    "# function\n",
    "# \tpublic unsafe bool ClientIllumZonesGetControl(uint nIndex, uint nZoneIndex, ref byte red, ref byte green, ref byte blue, ref byte brightness)\n",
    "\n",
    "from System import Byte, UInt32\n",
    "\n",
    "gpu_index = UInt32(0)\n",
    "zone_index = UInt32(0)\n",
    "\n",
    "# You can pass dummy values; they'll be replaced\n",
    "red = Byte(0)\n",
    "green = Byte(0)\n",
    "blue = Byte(0)\n",
    "brightness = Byte(0)\n",
    "\n",
    "# Call the method (Python.NET returns a tuple with ref values)\n",
    "result = nv.ClientIllumZonesGetControl(gpu_index, zone_index, red, green, blue, brightness)\n",
    "\n",
    "# Unpack the result\n",
    "success, red_val, green_val, blue_val, brightness_val = result\n",
    "\n",
    "# Print the output\n",
    "print(\"Success:\", success)\n",
    "print(\"Red:\", red_val)\n",
    "print(\"Green:\", green_val)\n",
    "print(\"Blue:\", blue_val)\n",
    "print(\"Brightness:\", brightness_val)"
   ]
  },
  {
   "cell_type": "code",
   "execution_count": 4,
   "metadata": {},
   "outputs": [
    {
     "data": {
      "text/plain": [
       "(False, 0, 0, 0, 0)"
      ]
     },
     "execution_count": 4,
     "metadata": {},
     "output_type": "execute_result"
    }
   ],
   "source": [
    "result"
   ]
  },
  {
   "cell_type": "code",
   "execution_count": 5,
   "metadata": {},
   "outputs": [
    {
     "data": {
      "text/plain": [
       "<CHANNEL_ID.CHANNEL_ID_TOTAL_GPU_POWER: 0>"
      ]
     },
     "execution_count": 5,
     "metadata": {},
     "output_type": "execute_result"
    }
   ],
   "source": [
    "nv.CHANNEL_ID.CHANNEL_ID_TOTAL_GPU_POWER"
   ]
  }
 ],
 "metadata": {
  "kernelspec": {
   "display_name": ".venv",
   "language": "python",
   "name": "python3"
  },
  "language_info": {
   "codemirror_mode": {
    "name": "ipython",
    "version": 3
   },
   "file_extension": ".py",
   "mimetype": "text/x-python",
   "name": "python",
   "nbconvert_exporter": "python",
   "pygments_lexer": "ipython3",
   "version": "3.11.5"
  }
 },
 "nbformat": 4,
 "nbformat_minor": 4
}
