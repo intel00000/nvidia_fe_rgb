{
 "cells": [
  {
   "cell_type": "code",
   "execution_count": 1,
   "metadata": {},
   "outputs": [
    {
     "data": {
      "text/plain": [
       "<NVAPI_STATUS.NVAPI_OK: 0>"
      ]
     },
     "execution_count": 1,
     "metadata": {},
     "output_type": "execute_result"
    }
   ],
   "source": [
    "\n",
    "import clr\n",
    "\n",
    "clr.AddReference(\"ManagedNvApi\")\n",
    "\n",
    "# 2. Import the actual C# namespace/classes you want\n",
    "from ManagedNvApi import NvApi\n",
    "\n",
    "# 3. Instantiate the NvApi class\n",
    "nv = NvApi()\n",
    "nv.Initialize()"
   ]
  },
  {
   "cell_type": "code",
   "execution_count": 2,
   "metadata": {},
   "outputs": [
    {
     "name": "stdout",
     "output_type": "stream",
     "text": [
      "Call success: True\n",
      "Driver Version: 57283\n",
      "Build Branch String: r572_77\n"
     ]
    }
   ],
   "source": [
    "from System import UInt32, String\n",
    "\n",
    "# public unsafe bool getSysDriverAndBranchVersion(ref uint dwDriverVersion, ref string strBuildBranchString)\n",
    "\n",
    "dwDriverVersion = UInt32(0)\n",
    "strBuildBranchString = String(\"\")\n",
    "\n",
    "# The return value is a tuple, first is the return value of the function, the rest are the updated values of the parameters\n",
    "success, driver_version, build_branch_string= nv.getSysDriverAndBranchVersion(dwDriverVersion, strBuildBranchString)\n",
    "\n",
    "print(\"Call success:\", success)\n",
    "print(\"Driver Version:\", driver_version)\n",
    "print(\"Build Branch String:\", build_branch_string)"
   ]
  },
  {
   "cell_type": "code",
   "execution_count": 3,
   "metadata": {},
   "outputs": [
    {
     "name": "stdout",
     "output_type": "stream",
     "text": [
      "Call success: True\n",
      "Base Graphics Clock (MHz): 1365.0\n"
     ]
    }
   ],
   "source": [
    "from System import UInt32\n",
    "\n",
    "# public unsafe bool getGpuBaseGraphicsClock(uint nIndex, ref uint ulFrequency)\n",
    "gpu_index = UInt32(0)\n",
    "ulFrequency = UInt32(0)\n",
    "\n",
    "# The return value is a tuple, first is the return value of the function, the rest are the updated values of the parameters\n",
    "success, base_freq = nv.getGpuBaseGraphicsClock(gpu_index, ulFrequency)\n",
    "\n",
    "print(\"Call success:\", success)\n",
    "print(f\"Base Graphics Clock (MHz): {base_freq / 1000}\")"
   ]
  },
  {
   "cell_type": "code",
   "execution_count": 4,
   "metadata": {},
   "outputs": [
    {
     "name": "stdout",
     "output_type": "stream",
     "text": [
      "Call success: True\n",
      "Boost Graphics Clock (MHz): 1665.0\n"
     ]
    }
   ],
   "source": [
    "from System import UInt32\n",
    "\n",
    "# public unsafe bool getGpuBoostGraphicsClock(uint nIndex, ref uint ulFrequency)\n",
    "gpu_index = UInt32(0)\n",
    "ulFrequency = UInt32(0)\n",
    "\n",
    "# The return value is a tuple, first is the return value of the function, the rest are the updated values of the parameters\n",
    "success, boost_freq = nv.getGpuBoostGraphicsClock(gpu_index, ulFrequency)\n",
    "\n",
    "print(\"Call success:\", success)\n",
    "print(f\"Boost Graphics Clock (MHz): {boost_freq / 1000}\")"
   ]
  },
  {
   "cell_type": "code",
   "execution_count": 5,
   "metadata": {},
   "outputs": [
    {
     "name": "stdout",
     "output_type": "stream",
     "text": [
      "Call success: True\n",
      "GPU Usage (%): 0\n"
     ]
    }
   ],
   "source": [
    "from System import UInt32\n",
    "\n",
    "# public unsafe bool getGpuUsage(uint nIndex, ref uint ulPercentage)\n",
    "gpu_index = UInt32(0)\n",
    "ulPercentage = UInt32(0)\n",
    "\n",
    "# The return value is a tuple, first is the return value of the function, the rest are the updated values of the parameters\n",
    "success, boost_freq = nv.getGpuBoostGraphicsClock(gpu_index, ulPercentage)\n",
    "\n",
    "print(\"Call success:\", success)\n",
    "print(f\"GPU Usage (%): {ulPercentage}\")"
   ]
  },
  {
   "cell_type": "code",
   "execution_count": 6,
   "metadata": {},
   "outputs": [
    {
     "name": "stdout",
     "output_type": "stream",
     "text": [
      "Call success: True\n",
      "GPU Power Limit (W): 0\n"
     ]
    }
   ],
   "source": [
    "# public unsafe bool getGpuPowerLimit(uint nIndex, ref uint ulLimit)\n",
    "gpu_index = UInt32(0)\n",
    "ulLimit = UInt32(0)\n",
    "\n",
    "# The return value is a tuple, first is the return value of the function, the rest are the updated values of the parameters\n",
    "success, power_limit = nv.getGpuPowerLimit(gpu_index, ulLimit)\n",
    "\n",
    "print(\"Call success:\", success)\n",
    "print(f\"GPU Power Limit (W): {power_limit}\")"
   ]
  },
  {
   "cell_type": "code",
   "execution_count": 7,
   "metadata": {},
   "outputs": [
    {
     "name": "stdout",
     "output_type": "stream",
     "text": [
      "Call success: True\n",
      "GPU Temp Limit (C): 0\n"
     ]
    }
   ],
   "source": [
    "# public unsafe bool getGpuTempLimit(uint nIndex, ref uint ulLimit)\n",
    "gpu_index = UInt32(0)\n",
    "ulLimit = UInt32(0)\n",
    "\n",
    "# The return value is a tuple, first is the return value of the function, the rest are the updated values of the parameters\n",
    "success, temp_limit = nv.getGpuTempLimit(gpu_index, ulLimit)\n",
    "\n",
    "print(\"Call success:\", success)\n",
    "print(f\"GPU Temp Limit (C): {temp_limit}\")"
   ]
  },
  {
   "cell_type": "code",
   "execution_count": 8,
   "metadata": {},
   "outputs": [
    {
     "name": "stdout",
     "output_type": "stream",
     "text": [
      "Call success: True\n",
      "System Type: NV_SYSTEM_TYPE_DESKTOP\n"
     ]
    }
   ],
   "source": [
    "# public unsafe bool getSystemType(uint nIndex, ref CLR_NV_SYSTEM_TYPE type)\n",
    "gpu_index = UInt32(0)\n",
    "type = nv.CLR_NV_SYSTEM_TYPE(0)\n",
    "\n",
    "# This returns a tuple: (bool result, CLR_NV_SYSTEM_TYPE updatedValue)\n",
    "success, system_type = nv.getSystemType(gpu_index, type)\n",
    "\n",
    "print(\"Call success:\", success)\n",
    "print(f\"System Type: {system_type}\")"
   ]
  },
  {
   "cell_type": "code",
   "execution_count": 9,
   "metadata": {},
   "outputs": [
    {
     "name": "stdout",
     "output_type": "stream",
     "text": [
      "Call success: True\n",
      "LED Zone Type: NV_GPU_CLIENT_ILLUM_ZONE_TYPE_RGBW\n",
      "LED Zone Location: NV_GPU_CLIENT_ILLUM_ZONE_LOCATION_GPU_FRONT_0\n"
     ]
    }
   ],
   "source": [
    "# public unsafe bool getLedZoneType(uint nIndex, uint nZoneIndex, ref NV_GPU_CLIENT_ILLUM_ZONE_TYPE type, ref NV_GPU_CLIENT_ILLUM_ZONE_LOCATION location)\n",
    "gpu_index = UInt32(0)\n",
    "nZoneIndex = UInt32(0)\n",
    "type = nv.NV_GPU_CLIENT_ILLUM_ZONE_TYPE(0)\n",
    "location = nv.NV_GPU_CLIENT_ILLUM_ZONE_LOCATION(0)\n",
    "\n",
    "# The return value is a tuple, first is the return value of the function, the rest are the updated values of the parameters\n",
    "success, zone_type, zone_location = nv.getLedZoneType(gpu_index, nZoneIndex, type, location)\n",
    "\n",
    "print(\"Call success:\", success)\n",
    "print(f\"LED Zone Type: {zone_type}\")\n",
    "print(f\"LED Zone Location: {zone_location}\")"
   ]
  },
  {
   "cell_type": "code",
   "execution_count": 10,
   "metadata": {},
   "outputs": [
    {
     "name": "stdout",
     "output_type": "stream",
     "text": [
      "Call success: True\n",
      "LED Zone Type: NV_GPU_CLIENT_ILLUM_ZONE_TYPE_SINGLE_COLOR\n",
      "LED Zone Location: NV_GPU_CLIENT_ILLUM_ZONE_LOCATION_GPU_TOP_0\n"
     ]
    }
   ],
   "source": [
    "# public unsafe bool getLedZoneType(uint nIndex, uint nZoneIndex, ref NV_GPU_CLIENT_ILLUM_ZONE_TYPE type, ref NV_GPU_CLIENT_ILLUM_ZONE_LOCATION location)\n",
    "gpu_index = UInt32(0)\n",
    "nZoneIndex = UInt32(1)\n",
    "type = nv.NV_GPU_CLIENT_ILLUM_ZONE_TYPE(0)\n",
    "location = nv.NV_GPU_CLIENT_ILLUM_ZONE_LOCATION(0)\n",
    "\n",
    "# The return value is a tuple, first is the return value of the function, the rest are the updated values of the parameters\n",
    "success, zone_type, zone_location = nv.getLedZoneType(gpu_index, nZoneIndex, type, location)\n",
    "\n",
    "print(\"Call success:\", success)\n",
    "print(f\"LED Zone Type: {zone_type}\")\n",
    "print(f\"LED Zone Location: {zone_location}\")"
   ]
  },
  {
   "cell_type": "code",
   "execution_count": 11,
   "metadata": {},
   "outputs": [
    {
     "name": "stdout",
     "output_type": "stream",
     "text": [
      "Call success: False\n",
      "LED Zone Type: NV_GPU_CLIENT_ILLUM_ZONE_TYPE_INVALID\n",
      "LED Zone Location: NV_GPU_CLIENT_ILLUM_ZONE_LOCATION_GPU_TOP_0\n"
     ]
    }
   ],
   "source": [
    "# public unsafe bool getLedZoneType(uint nIndex, uint nZoneIndex, ref NV_GPU_CLIENT_ILLUM_ZONE_TYPE type, ref NV_GPU_CLIENT_ILLUM_ZONE_LOCATION location)\n",
    "gpu_index = UInt32(0)\n",
    "nZoneIndex = UInt32(2)\n",
    "type = nv.NV_GPU_CLIENT_ILLUM_ZONE_TYPE(0)\n",
    "location = nv.NV_GPU_CLIENT_ILLUM_ZONE_LOCATION(0)\n",
    "\n",
    "# The return value is a tuple, first is the return value of the function, the rest are the updated values of the parameters\n",
    "success, zone_type, zone_location = nv.getLedZoneType(gpu_index, nZoneIndex, type, location)\n",
    "\n",
    "print(\"Call success:\", success)\n",
    "print(f\"LED Zone Type: {zone_type}\")\n",
    "print(f\"LED Zone Location: {zone_location}\")"
   ]
  },
  {
   "cell_type": "code",
   "execution_count": 12,
   "metadata": {},
   "outputs": [
    {
     "name": "stdout",
     "output_type": "stream",
     "text": [
      "Call success: True\n",
      "LED Zone Color: 0, 0, 0, brightness: 1\n"
     ]
    }
   ],
   "source": [
    "from System import UInt32, Byte\n",
    "# public unsafe bool ClientIllumZonesGetControl(uint nIndex, uint nZoneIndex, ref byte red, ref byte green, ref byte blue, ref byte brightness)\n",
    "gpu_index = UInt32(0)\n",
    "nZoneIndex = UInt32(1)\n",
    "red = Byte(0)\n",
    "green = Byte(0)\n",
    "blue = Byte(0)\n",
    "brightness = Byte(0)\n",
    "\n",
    "# The return value is a tuple, first is the return value of the function, the rest are the updated values of the parameters\n",
    "success, red, green, blue, brightness = nv.ClientIllumZonesGetControl(gpu_index, nZoneIndex, red, green, blue, brightness)\n",
    "\n",
    "print(\"Call success:\", success)\n",
    "print(f\"LED Zone Color: {red}, {green}, {blue}, brightness: {brightness}\")"
   ]
  },
  {
   "cell_type": "code",
   "execution_count": 13,
   "metadata": {},
   "outputs": [
    {
     "name": "stdout",
     "output_type": "stream",
     "text": [
      "Call success: True\n",
      "Brightness set to 0%\n"
     ]
    }
   ],
   "source": [
    "# public unsafe bool ClientIllumZonesSetControl(uint nIndex, uint nZoneIndex, byte red, byte green, byte blue, byte brightnessPercent)\n",
    "gpu_index = UInt32(0)\n",
    "nZoneIndex = UInt32(0)\n",
    "red = Byte(255)\n",
    "green = Byte(255)\n",
    "blue = Byte(255)\n",
    "brightness = Byte(0)\n",
    "\n",
    "# The return value is a tuple, first is the return value of the function, the rest are the updated values of the parameters\n",
    "success = nv.ClientIllumZonesSetControl(gpu_index, nZoneIndex, red, green, blue, brightness)\n",
    "\n",
    "print(\"Call success:\", success)\n",
    "print(f\"Brightness set to {brightness}%\")"
   ]
  },
  {
   "cell_type": "code",
   "execution_count": 14,
   "metadata": {},
   "outputs": [
    {
     "name": "stdout",
     "output_type": "stream",
     "text": [
      "Call success: True\n",
      "Brightness set to 1%\n"
     ]
    }
   ],
   "source": [
    "# public unsafe bool ClientIllumZonesSetControl(uint nIndex, uint nZoneIndex, byte red, byte green, byte blue, byte brightnessPercent)\n",
    "gpu_index = UInt32(0)\n",
    "nZoneIndex = UInt32(1)\n",
    "red = Byte(0)\n",
    "green = Byte(0)\n",
    "blue = Byte(0)\n",
    "brightness = Byte(1)\n",
    "\n",
    "# The return value is a tuple, first is the return value of the function, the rest are the updated values of the parameters\n",
    "success = nv.ClientIllumZonesSetControl(gpu_index, nZoneIndex, red, green, blue, brightness)\n",
    "\n",
    "print(\"Call success:\", success)\n",
    "print(f\"Brightness set to {brightness}%\")"
   ]
  },
  {
   "cell_type": "code",
   "execution_count": 15,
   "metadata": {},
   "outputs": [],
   "source": [
    "nv.Dispose()"
   ]
  }
 ],
 "metadata": {
  "kernelspec": {
   "display_name": ".venv",
   "language": "python",
   "name": "python3"
  },
  "language_info": {
   "codemirror_mode": {
    "name": "ipython",
    "version": 3
   },
   "file_extension": ".py",
   "mimetype": "text/x-python",
   "name": "python",
   "nbconvert_exporter": "python",
   "pygments_lexer": "ipython3",
   "version": "3.13.2"
  }
 },
 "nbformat": 4,
 "nbformat_minor": 4
}
